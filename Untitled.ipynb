{
 "cells": [
  {
   "cell_type": "code",
   "execution_count": 2,
   "id": "ac69ea97-35fa-49b2-903e-d45f25666080",
   "metadata": {},
   "outputs": [],
   "source": [
    "import numpy as np"
   ]
  },
  {
   "cell_type": "code",
   "execution_count": 3,
   "id": "5463d024-7b7b-4e17-882b-253b3a1bb7a4",
   "metadata": {},
   "outputs": [
    {
     "data": {
      "text/plain": [
       "array([[-0.03309239, -0.02122262,  0.02723941, ..., -0.00791566,\n",
       "        -0.03410511, -0.0283415 ],\n",
       "       [-0.02479155,  0.03175715,  0.04946326, ..., -0.00662481,\n",
       "         0.01397614,  0.01286764],\n",
       "       [-0.02365445,  0.01152187,  0.01966454, ..., -0.03083357,\n",
       "         0.03566489,  0.00505185],\n",
       "       ...,\n",
       "       [ 0.02007806,  0.02437575,  0.01672507, ..., -0.01061782,\n",
       "         0.03749502, -0.01130971],\n",
       "       [-0.02475242,  0.01670754,  0.0197278 , ..., -0.02484852,\n",
       "         0.04005966, -0.01102396],\n",
       "       [ 0.00499263, -0.00416333,  0.02179703, ..., -0.00616105,\n",
       "         0.04246593,  0.00545261]])"
      ]
     },
     "execution_count": 3,
     "metadata": {},
     "output_type": "execute_result"
    }
   ],
   "source": [
    "loaded_embeddings = np.load(\"test_case_embeddings.npy\")\n",
    "loaded_embeddings"
   ]
  },
  {
   "cell_type": "code",
   "execution_count": null,
   "id": "87f81133-76ec-4acf-8d0e-479e6343718b",
   "metadata": {},
   "outputs": [],
   "source": []
  }
 ],
 "metadata": {
  "kernelspec": {
   "display_name": "Python 3 (ipykernel)",
   "language": "python",
   "name": "python3"
  },
  "language_info": {
   "codemirror_mode": {
    "name": "ipython",
    "version": 3
   },
   "file_extension": ".py",
   "mimetype": "text/x-python",
   "name": "python",
   "nbconvert_exporter": "python",
   "pygments_lexer": "ipython3",
   "version": "3.12.1"
  }
 },
 "nbformat": 4,
 "nbformat_minor": 5
}
