{
 "cells": [
  {
   "cell_type": "code",
   "execution_count": 1,
   "metadata": {},
   "outputs": [
    {
     "name": "stdout",
     "output_type": "stream",
     "text": [
      "[[-0.0165295  -0.02112558 -0.0169932  ... -0.00256228 -0.00088989\n",
      "  -0.02896755]\n",
      " [-0.03747681  0.00716848  0.00663084 ... -0.01948393 -0.00671328\n",
      "  -0.02276709]\n",
      " [-0.02312836 -0.01100007 -0.00731223 ...  0.01230457 -0.0140533\n",
      "  -0.02819121]\n",
      " ...\n",
      " [-0.00451697 -0.01207288  0.00272814 ...  0.01566435  0.01148581\n",
      "  -0.01408272]\n",
      " [-0.00749965 -0.0001639   0.00786398 ...  0.00833829 -0.02132348\n",
      "  -0.02975113]\n",
      " [-0.00898086  0.00462426  0.002733   ...  0.00891043 -0.02372357\n",
      "  -0.03586711]]\n"
     ]
    }
   ],
   "source": [
    "import numpy as np\n",
    "\n",
    "# Load the NumPy file\n",
    "file_path = 'embeddings_ada.npy'  # Replace with your actual file path\n",
    "data = np.load(file_path)\n",
    "\n",
    "# Display the data\n",
    "print(data)"
   ]
  },
  {
   "cell_type": "code",
   "execution_count": null,
   "metadata": {},
   "outputs": [],
   "source": []
  }
 ],
 "metadata": {
  "kernelspec": {
   "display_name": ".venv",
   "language": "python",
   "name": "python3"
  },
  "language_info": {
   "codemirror_mode": {
    "name": "ipython",
    "version": 3
   },
   "file_extension": ".py",
   "mimetype": "text/x-python",
   "name": "python",
   "nbconvert_exporter": "python",
   "pygments_lexer": "ipython3",
   "version": "3.11.9"
  }
 },
 "nbformat": 4,
 "nbformat_minor": 2
}
